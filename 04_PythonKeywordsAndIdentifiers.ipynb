{
 "cells": [
  {
   "cell_type": "code",
   "execution_count": null,
   "id": "7b2a8332",
   "metadata": {},
   "outputs": [
    {
     "name": "stdout",
     "output_type": "stream",
     "text": [
      "True\n",
      "False\n",
      "True\n"
     ]
    }
   ],
   "source": [
    "# True False\n",
    "print(50==50)\n",
    "print(50!=50)\n",
    "print(50>40)\n"
   ]
  },
  {
   "cell_type": "code",
   "execution_count": 12,
   "id": "a6de5062",
   "metadata": {},
   "outputs": [
    {
     "name": "stdout",
     "output_type": "stream",
     "text": [
      "True\n",
      "True\n",
      "False\n",
      "----------------------------------------------------------\n",
      "False\n",
      "False\n",
      "False\n",
      "False\n",
      "False\n",
      "False\n",
      "False\n"
     ]
    }
   ],
   "source": [
    "# None  --- IGNORE ---\n",
    "print(None==None)\n",
    "print(None is None)\n",
    "print(None is not None)\n",
    "\n",
    "print(\"----------------------------------------------------------\")\n",
    "print(None==0)\n",
    "print(None==False)\n",
    "print(None==\"\")\n",
    "print(None==[])\n",
    "print(None==())\n",
    "print(None=={})\n",
    "print(None==set())"
   ]
  },
  {
   "cell_type": "code",
   "execution_count": 13,
   "id": "0e931afe",
   "metadata": {},
   "outputs": [
    {
     "name": "stdout",
     "output_type": "stream",
     "text": [
      "None\n"
     ]
    }
   ],
   "source": [
    "def a_void_function():\n",
    "    a=10\n",
    "    b=20\n",
    "    c=a+b\n",
    "    # No return statement, so it returns None by default\n",
    "result = a_void_function()\n",
    "print(result)  # This will print 'None' since the function does not return anything"
   ]
  },
  {
   "cell_type": "code",
   "execution_count": 15,
   "id": "cb68f2e7",
   "metadata": {},
   "outputs": [
    {
     "name": "stdout",
     "output_type": "stream",
     "text": [
      "30\n"
     ]
    }
   ],
   "source": [
    "def a_void_function():\n",
    "    a=10\n",
    "    b=20\n",
    "    c=a+b\n",
    "    return c\n",
    "result = a_void_function()\n",
    "print(result)  # This will print '30' since the function returns the sum of a and b"
   ]
  },
  {
   "cell_type": "code",
   "execution_count": 23,
   "id": "af7b96bc",
   "metadata": {},
   "outputs": [
    {
     "name": "stdout",
     "output_type": "stream",
     "text": [
      "False\n",
      "True\n",
      "False\n",
      "----------------------------------------------------------\n",
      "True\n",
      "----------------------------------------------------------\n",
      "False\n",
      "True\n",
      "False\n",
      "----------------------------------------------------------\n",
      "True\n",
      "False\n",
      "True\n",
      "False\n"
     ]
    }
   ],
   "source": [
    "# and, or, not\n",
    "print(True and False)\n",
    "print(True or False)\n",
    "print(not True)\n",
    "print(\"----------------------------------------------------------\")\n",
    "print(not False)\n",
    "print(\"----------------------------------------------------------\")\n",
    "print((10>5) and (5<3))\n",
    "print((10>5) or (5<3)) \n",
    "print(not(10>5))\n",
    "print(\"----------------------------------------------------------\")\n",
    "print(True and True)\n",
    "print(False and False)\n",
    "print(True or True)\n",
    "print(False or False)"
   ]
  },
  {
   "cell_type": "code",
   "execution_count": 26,
   "id": "236cf724",
   "metadata": {},
   "outputs": [
    {
     "name": "stdout",
     "output_type": "stream",
     "text": [
      "4.0\n",
      "-1.0\n"
     ]
    }
   ],
   "source": [
    "# as\n",
    "import math as myMath\n",
    "print(myMath.sqrt(16))\n",
    "print(myMath.cos(myMath.pi))"
   ]
  },
  {
   "cell_type": "code",
   "execution_count": 32,
   "id": "f2868de4",
   "metadata": {},
   "outputs": [
    {
     "name": "stdout",
     "output_type": "stream",
     "text": [
      "This line will not be executed due to the assertion error above.\n",
      "Math works!\n"
     ]
    }
   ],
   "source": [
    "# assert\n",
    "x = 10\n",
    "assert x > 5, \"x should be greater than 5\"\n",
    "# assert x < 5, \"x should be less than 5\"  #This will raise an AssertionError\n",
    "print(\"This line will not be executed due to the assertion error above.\")\n",
    "\n",
    "assert 2 + 2 == 4, \"Math is broken!\"\n",
    "print(\"Math works!\")"
   ]
  },
  {
   "cell_type": "code",
   "execution_count": 33,
   "id": "65d13e9d",
   "metadata": {},
   "outputs": [
    {
     "name": "stdout",
     "output_type": "stream",
     "text": [
      "0\n",
      "1\n",
      "2\n",
      "3\n",
      "4\n"
     ]
    }
   ],
   "source": [
    "# break\n",
    "for i in range(10):\n",
    "    if i == 5:\n",
    "        break\n",
    "    print(i)"
   ]
  },
  {
   "cell_type": "code",
   "execution_count": 35,
   "id": "7841cd5e",
   "metadata": {},
   "outputs": [
    {
     "name": "stdout",
     "output_type": "stream",
     "text": [
      "1\n",
      "3\n",
      "5\n",
      "7\n",
      "9\n"
     ]
    }
   ],
   "source": [
    "# continue\n",
    "for i in range(10):\n",
    "    if i % 2 == 0:\n",
    "        continue\n",
    "    print(i)"
   ]
  },
  {
   "cell_type": "code",
   "execution_count": 39,
   "id": "e5176fbf",
   "metadata": {},
   "outputs": [
    {
     "name": "stdout",
     "output_type": "stream",
     "text": [
      "function1() excuting.......\n",
      "function2() excuting.......\n"
     ]
    }
   ],
   "source": [
    "# class\n",
    "class MyClass:\n",
    "    def function1(parameter):\n",
    "        print(\"function1() excuting.......\")\n",
    "    def function2(parameter):\n",
    "        print(\"function2() excuting.......\")\n",
    "obj = MyClass()\n",
    "obj.function1()  \n",
    "obj.function2()"
   ]
  },
  {
   "cell_type": "code",
   "execution_count": 45,
   "id": "7a7aa00d",
   "metadata": {},
   "outputs": [],
   "source": [
    "# def\n",
    "def my_function(parameter):\n",
    "    pass\n",
    "my_function(10)  # This will do nothing and return None"
   ]
  },
  {
   "cell_type": "code",
   "execution_count": 48,
   "id": "79265a6b",
   "metadata": {},
   "outputs": [
    {
     "name": "stdout",
     "output_type": "stream",
     "text": [
      "10 20\n"
     ]
    }
   ],
   "source": [
    "# del\n",
    "a = 10\n",
    "b = 20\n",
    "print(a, b)\n",
    "del a\n",
    "# print(a)  # This will raise a NameError since 'a' has been deleted"
   ]
  },
  {
   "cell_type": "code",
   "execution_count": 3,
   "id": "0143de31",
   "metadata": {},
   "outputs": [
    {
     "name": "stdout",
     "output_type": "stream",
     "text": [
      "x is less than 5\n"
     ]
    }
   ],
   "source": [
    "# if, elif, else\n",
    "x = 2\n",
    "# x=int(input(\"Enter a number: \"))\n",
    "if x > 5:\n",
    "    print(\"x is greater than 5\")\n",
    "elif x == 5:\n",
    "    print(\"x is equal to 5\")\n",
    "elif x < 5:\n",
    "    print(\"x is less than 5\")\n",
    "else:\n",
    "    print(\"x is less than 5\")\n"
   ]
  },
  {
   "cell_type": "code",
   "execution_count": 5,
   "id": "089dc8d7",
   "metadata": {},
   "outputs": [
    {
     "name": "stdout",
     "output_type": "stream",
     "text": [
      "Division cannot be performed\n",
      "Execution completed.\n"
     ]
    }
   ],
   "source": [
    "# try,raise, except, finally\n",
    "try:\n",
    "    x=9\n",
    "    raise ZeroDivisionError(\"Manually raising a ZeroDivisionError\")\n",
    "except ZeroDivisionError:\n",
    "    print(\"Division cannot be performed\")\n",
    "finally:\n",
    "    print(\"Execution completed.\")"
   ]
  },
  {
   "cell_type": "code",
   "execution_count": 10,
   "id": "b39b5cfb",
   "metadata": {},
   "outputs": [
    {
     "name": "stdout",
     "output_type": "stream",
     "text": [
      "5\n",
      "6\n",
      "7\n",
      "8\n",
      "9\n"
     ]
    }
   ],
   "source": [
    "# for\n",
    "for i in range(5, 10):\n",
    "    print(i)"
   ]
  },
  {
   "cell_type": "code",
   "execution_count": 14,
   "id": "74d5af98",
   "metadata": {},
   "outputs": [
    {
     "name": "stdout",
     "output_type": "stream",
     "text": [
      "5.0\n",
      "120\n",
      "-0.8390715290764524 \n",
      " 3.141592653589793\n"
     ]
    }
   ],
   "source": [
    "# from import\n",
    "import math\n",
    "print(math.sqrt(25))\n",
    "print(math.factorial(5))\n",
    "\n",
    "from math import cos, pi\n",
    "print(cos(10),\"\\n\",pi)"
   ]
  },
  {
   "cell_type": "code",
   "execution_count": 21,
   "id": "8dfac257",
   "metadata": {},
   "outputs": [
    {
     "name": "stdout",
     "output_type": "stream",
     "text": [
      "10\n",
      "5\n",
      "5\n"
     ]
    }
   ],
   "source": [
    "\n",
    "# global\n",
    "global_variable=10\n",
    "def read1():\n",
    "    print(global_variable)\n",
    "def write1():\n",
    "    global global_variable\n",
    "    global_variable=5\n",
    "def write2():\n",
    "    global_variable=15\n",
    "read1()\n",
    "write1()\n",
    "read1()\n",
    "write2()\n",
    "read1()"
   ]
  },
  {
   "cell_type": "code",
   "execution_count": 34,
   "id": "35b112d2",
   "metadata": {},
   "outputs": [
    {
     "name": "stdout",
     "output_type": "stream",
     "text": [
      "True\n",
      "False\n",
      "===================================\n",
      "False\n",
      "True\n"
     ]
    }
   ],
   "source": [
    "# in\n",
    "a=[3,4,2,5,7,6,1,8,10,0]\n",
    "print(1 in a)\n",
    "print(33 in a)\n",
    "\n",
    "print(\"===================================\")\n",
    "print(1 not in a)\n",
    "print(33 not in a)"
   ]
  },
  {
   "cell_type": "code",
   "execution_count": 30,
   "id": "180212b5",
   "metadata": {},
   "outputs": [
    {
     "name": "stdout",
     "output_type": "stream",
     "text": [
      "True\n",
      "False\n"
     ]
    }
   ],
   "source": [
    "# is\n",
    "print(True is True)\n",
    "\n",
    "print(False is True)"
   ]
  },
  {
   "cell_type": "code",
   "execution_count": 35,
   "id": "a1a7b329",
   "metadata": {},
   "outputs": [
    {
     "name": "stdout",
     "output_type": "stream",
     "text": [
      "4\n",
      "8\n",
      "12\n",
      "16\n",
      "20\n",
      "24\n"
     ]
    }
   ],
   "source": [
    "# labmda\n",
    "a=lambda x:x*4\n",
    "for i in range(1,7):\n",
    "    print(a(i))"
   ]
  },
  {
   "cell_type": "code",
   "execution_count": 37,
   "id": "cb15b5d5",
   "metadata": {},
   "outputs": [
    {
     "name": "stdout",
     "output_type": "stream",
     "text": [
      "Inner function:  90\n",
      "Outer function 90\n"
     ]
    }
   ],
   "source": [
    "# nonlocal\n",
    "def outer_function():\n",
    "    a=5\n",
    "    def inner_function():\n",
    "        nonlocal a\n",
    "        a=90\n",
    "        print(\"Inner function: \",a)\n",
    "    inner_function()\n",
    "    print(\"Outer function\",a)\n",
    "outer_function()"
   ]
  },
  {
   "cell_type": "code",
   "execution_count": 39,
   "id": "2ecdf0ef",
   "metadata": {},
   "outputs": [],
   "source": [
    "# pass\n",
    "def function(args):\n",
    "    pass\n",
    "function(10)"
   ]
  },
  {
   "cell_type": "code",
   "execution_count": 41,
   "id": "861bbb24",
   "metadata": {},
   "outputs": [
    {
     "name": "stdout",
     "output_type": "stream",
     "text": [
      "19\n"
     ]
    }
   ],
   "source": [
    "# return\n",
    "def funReturn():\n",
    "    a=19\n",
    "    return a\n",
    "print(funReturn())\n"
   ]
  },
  {
   "cell_type": "code",
   "execution_count": 44,
   "id": "e8ab086d",
   "metadata": {},
   "outputs": [
    {
     "name": "stdout",
     "output_type": "stream",
     "text": [
      "59\n",
      "58\n",
      "57\n",
      "56\n",
      "55\n",
      "54\n",
      "53\n",
      "52\n",
      "51\n"
     ]
    }
   ],
   "source": [
    "# while\n",
    "i=59\n",
    "while(i>50):\n",
    "    print(i)\n",
    "    i-=1"
   ]
  },
  {
   "cell_type": "code",
   "execution_count": 48,
   "id": "f12e0334",
   "metadata": {},
   "outputs": [],
   "source": [
    "# with\n",
    "with open('open_method.txt','w') as myFile:\n",
    "    myFile.write('Hello world!')"
   ]
  },
  {
   "cell_type": "code",
   "execution_count": null,
   "id": "89cd94a1",
   "metadata": {},
   "outputs": [
    {
     "name": "stdout",
     "output_type": "stream",
     "text": [
      "0\n",
      "1\n",
      "4\n",
      "9\n",
      "16\n",
      "25\n"
     ]
    }
   ],
   "source": [
    "# yield\n",
    "def generator():\n",
    "    for i in range (6):\n",
    "        yield i*i\n",
    "g=generator()\n",
    "for i in g:\n",
    "    print(i) "
   ]
  }
 ],
 "metadata": {
  "kernelspec": {
   "display_name": "Python 3",
   "language": "python",
   "name": "python3"
  },
  "language_info": {
   "codemirror_mode": {
    "name": "ipython",
    "version": 3
   },
   "file_extension": ".py",
   "mimetype": "text/x-python",
   "name": "python",
   "nbconvert_exporter": "python",
   "pygments_lexer": "ipython3",
   "version": "3.13.1"
  }
 },
 "nbformat": 4,
 "nbformat_minor": 5
}
