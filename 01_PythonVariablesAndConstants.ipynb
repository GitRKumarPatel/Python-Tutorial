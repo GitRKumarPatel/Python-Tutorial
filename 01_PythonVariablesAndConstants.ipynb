{
 "cells": [
  {
   "cell_type": "code",
   "execution_count": 1,
   "id": "69e93eab",
   "metadata": {},
   "outputs": [],
   "source": [
    "# Declaring and assingning values to constants and variables in Python\n",
    "PI=3.14159  # Constant (by convention, constants are written in uppercase)\n",
    "GRAVITY=9.81  # Constant"
   ]
  },
  {
   "cell_type": "code",
   "execution_count": 5,
   "id": "14eee0c0",
   "metadata": {},
   "outputs": [
    {
     "name": "stdout",
     "output_type": "stream",
     "text": [
      "python\n",
      "rahul\n",
      "10\n",
      "1 2.5 hello\n",
      "100 100 100\n",
      "Value of PI: 3.14159\n",
      "Value of GRAVITY: 9.81\n"
     ]
    }
   ],
   "source": [
    "# Declaring and assigning values to variables\n",
    "a=\"python\"\n",
    "print(a)\n",
    "# changing the value of variable \n",
    "a=\"rahul\"\n",
    "print(a)\n",
    "a=10\n",
    "print(a)\n",
    "# Assigning multiple values to multiple variables\n",
    "x,y,z=1,2.5,\"hello\"\n",
    "print(x,y,z)\n",
    "# Assigning the same value to multiple variables\n",
    "m=n=p=100\n",
    "print(m,n,p)\n",
    "# Constants in Python (by convention, constants are written in uppercase)\n",
    "print(\"Value of PI:\",PI)\n",
    "print(\"Value of GRAVITY:\",GRAVITY)"
   ]
  }
 ],
 "metadata": {
  "kernelspec": {
   "display_name": "Python 3",
   "language": "python",
   "name": "python3"
  },
  "language_info": {
   "codemirror_mode": {
    "name": "ipython",
    "version": 3
   },
   "file_extension": ".py",
   "mimetype": "text/x-python",
   "name": "python",
   "nbconvert_exporter": "python",
   "pygments_lexer": "ipython3",
   "version": "3.13.1"
  }
 },
 "nbformat": 4,
 "nbformat_minor": 5
}
