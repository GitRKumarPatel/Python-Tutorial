{
 "cells": [
  {
   "cell_type": "code",
   "execution_count": 4,
   "id": "917ed7c8",
   "metadata": {},
   "outputs": [
    {
     "name": "stdout",
     "output_type": "stream",
     "text": [
      "[10, 40.2, 50, 90, 4.5]\n"
     ]
    }
   ],
   "source": [
    "# Defining and declaring and array\n",
    "arr=[10,40.20,50,90,4.5]\n",
    "print(arr)"
   ]
  },
  {
   "cell_type": "code",
   "execution_count": 10,
   "id": "1feff291",
   "metadata": {},
   "outputs": [
    {
     "name": "stdout",
     "output_type": "stream",
     "text": [
      "10\n",
      "40.2\n",
      "50\n",
      "90\n",
      "4.5\n",
      "------------------------------------------------\n",
      "Accessing elements using Negative Indexing\n",
      "------------------------------------------------\n",
      "4.5\n",
      "90\n"
     ]
    }
   ],
   "source": [
    "# Accessing Array elements\n",
    "print(arr[0])\n",
    "print(arr[1])\n",
    "print(arr[2])\n",
    "print(arr[3])\n",
    "print(arr[4])\n",
    "# print(arr[5])  # This will raise an IndexError since there is no 6th element\n",
    "print(\"------------------------------------------------\")\n",
    "print(\"Accessing elements using Negative Indexing\")\n",
    "print(\"------------------------------------------------\")\n",
    "print(arr[-1]) # Accessing the last element // Negative indexing\n",
    "print(arr[-2]) # Accessing the second last element"
   ]
  },
  {
   "cell_type": "code",
   "execution_count": null,
   "id": "368612d2",
   "metadata": {},
   "outputs": [
    {
     "name": "stdout",
     "output_type": "stream",
     "text": [
      "['Apple', 'Samsung', 'OnePlus', 'Nokia', 'Sony']\n",
      "Lenght of array:  5\n",
      "['Apple', 'Samsung', 'OnePlus', 'Nokia', 'Sony', 'Motorola']\n",
      "Lenght of array:  6\n",
      "['Apple', 'Samsung', 'HTC', 'OnePlus', 'Nokia', 'Sony', 'Motorola']\n",
      "Lenght of array:  7\n"
     ]
    }
   ],
   "source": [
    "brand=[\"Apple\",\"Samsung\",\"OnePlus\",\"Nokia\",\"Sony\"]\n",
    "print(brand)\n",
    "# Finding the length of an array\n",
    "print(\"Lenght of array: \",len(brand))\n",
    "# Adding an element to an array using append() In-built method\n",
    "brand.append(\"Motorola\")\n",
    "print(brand)\n",
    "print(\"Lenght of array: \",len(brand))\n",
    "# Inserting an element at a specific position using insert() method\n",
    "brand.insert(2,\"HTC\")\n",
    "print(brand)\n",
    "print(\"Lenght of array: \",len(brand))"
   ]
  },
  {
   "cell_type": "code",
   "execution_count": 28,
   "id": "7acc8ce9",
   "metadata": {},
   "outputs": [
    {
     "name": "stdout",
     "output_type": "stream",
     "text": [
      "['Red', 'Green', 'White', 'Black', 'Orange', 'Purple', 'Brown', 'violet', 'indigo']\n",
      "['Red', 'Green', 'Black', 'Orange', 'Purple', 'Brown', 'violet', 'indigo']\n",
      "['Red', 'Green', 'Orange', 'Purple', 'Brown', 'violet', 'indigo']\n",
      "['Red', 'Green', 'Orange', 'Purple', 'Brown', 'violet']\n",
      "['Red', 'Green', 'Orange', 'Brown', 'violet']\n",
      "Lenght of array:  5\n"
     ]
    }
   ],
   "source": [
    "# Removing an element from an array using remove() method\n",
    "colurs=[\"Red\",\"Green\",\"White\",\"Black\",\"Orange\",\"Purple\",\"Brown\",\"violet\",\"indigo\"]\n",
    "print(colurs)\n",
    "colurs.remove(\"White\")\n",
    "print(colurs)\n",
    "del colurs[2] # Removing an element using del keyword\n",
    "print(colurs)\n",
    "colurs.pop() # Removing the last element using pop() method\n",
    "print(colurs)\n",
    "colurs.pop(3) # Removing an element at a specific index using pop() method\n",
    "print(colurs)\n",
    "print(\"Lenght of array: \",len(colurs))"
   ]
  },
  {
   "cell_type": "code",
   "execution_count": 34,
   "id": "bad40749",
   "metadata": {},
   "outputs": [
    {
     "name": "stdout",
     "output_type": "stream",
     "text": [
      "['Apple', 'Banana', 'Mango', 'Grapes', 'Orange']\n",
      "['Apple', 'Banana', 'Pineapple', 'Grapes', 'Orange']\n",
      "['Apple', 'Banana', 'Pineapple', 'Grapes', 'Kiwi']\n",
      "['Apple', 'Banana', 'Pineapple', 'Grapes', 'Watermelon']\n",
      "['Apple', 'Banana', 'Strawberry', 'Grapes', 'Watermelon']\n"
     ]
    }
   ],
   "source": [
    "# Modifying element of an array using indexing\n",
    "fruits=[\"Apple\",\"Banana\",\"Mango\",\"Grapes\",\"Orange\"]\n",
    "print(fruits)\n",
    "# Modifying the 3rd element of the array // replacing \"Mango\" with \"Pineapple\"\n",
    "fruits[2]=\"Pineapple\"\n",
    "print(fruits)\n",
    "fruits[4]=\"Kiwi\"\n",
    "print(fruits)\n",
    "fruits[-1]=\"Watermelon\" # Modifying the last element using negative indexing\n",
    "print(fruits)\n",
    "fruits[-3]=\"Strawberry\" # Modifying the 3rd last element using negative indexing\n",
    "print(fruits)\n"
   ]
  },
  {
   "cell_type": "code",
   "execution_count": 40,
   "id": "91f32067",
   "metadata": {},
   "outputs": [
    {
     "name": "stdout",
     "output_type": "stream",
     "text": [
      "Array1 :  [1, 2, 3, 4, 5]\n",
      "Array1 :  [1, 2, 3, 4, 5]\n",
      "Array2 :  [6, 7, 8, 9, 10]\n",
      "Concatenated Array :  [1, 2, 3, 4, 5, 6, 7, 8, 9, 10]\n"
     ]
    }
   ],
   "source": [
    "# Concatenation of two arrays using + operator\n",
    "arr1=[1,2,3,4,5]\n",
    "print(\"Array1 : \",arr1)\n",
    "arr1+[11,12,13]\n",
    "print(\"Array1 : \",arr1)\n",
    "\n",
    "arr2=[6,7,8,9,10]\n",
    "print(\"Array2 : \",arr2)\n",
    "arr3=arr1+arr2\n",
    "print(\"Concatenated Array : \",arr3)"
   ]
  },
  {
   "cell_type": "code",
   "execution_count": 44,
   "id": "5cd7e341",
   "metadata": {},
   "outputs": [
    {
     "name": "stdout",
     "output_type": "stream",
     "text": [
      "['Devid']\n",
      "['Devid', 'Devid', 'Devid', 'Devid', 'Devid']\n"
     ]
    }
   ],
   "source": [
    "# Repeating element in array\n",
    "repeat=[\"Devid\"]\n",
    "print(repeat)\n",
    "repeat=repeat*5\n",
    "print(repeat)"
   ]
  },
  {
   "cell_type": "code",
   "execution_count": 47,
   "id": "6f3f6390",
   "metadata": {},
   "outputs": [
    {
     "name": "stdout",
     "output_type": "stream",
     "text": [
      "[10, 20, 30, 40, 50, 60, 70, 80, 90, 100]\n",
      "[30, 40, 50, 60]\n",
      "[10, 20, 30, 40, 50]\n",
      "[60, 70, 80, 90, 100]\n",
      "[60, 70, 80, 90]\n",
      "[80, 90, 100]\n",
      "[10, 20, 30, 40]\n"
     ]
    }
   ],
   "source": [
    "# Slicing of array\n",
    "numbers=[10,20,30,40,50,60,70,80,90,100]\n",
    "print(numbers)\n",
    "print(numbers[2:6]) # Slicing from index 2 to index 5 (6 is excluded)\n",
    "print(numbers[:5])  # Slicing from start to index 4 (5 is excluded\n",
    "print(numbers[5:])  # Slicing from index 5 to end\n",
    "print(numbers[-5:-1]) # Slicing using negative indexing from index -5 to -2 (-1 is excluded)\n",
    "print(numbers[-3:]) # Slicing using negative indexing from index -3 to end\n",
    "print(numbers[:-6]) # Slicing using negative indexing from start to index -7 (-6 is excluded)"
   ]
  },
  {
   "cell_type": "code",
   "execution_count": null,
   "id": "73943cf8",
   "metadata": {},
   "outputs": [
    {
     "name": "stdout",
     "output_type": "stream",
     "text": [
      "[[1, 2, 3], [4, 5, 6], [7, 8, 9]]\n",
      "[1, 2, 3]\n",
      "[4, 5, 6]\n",
      "[7, 8, 9]\n",
      "----------------------------------------------------------\n",
      "Accessing individual elements in a multi-dimensional array\n",
      "----------------------------------------------------------\n",
      "1\n",
      "5\n",
      "9\n"
     ]
    }
   ],
   "source": [
    "# Declaring and defining multi-dimensional array\n",
    "matrix=[[1,2,3],[4,5,6],[7,8,9]]\n",
    "print(matrix)\n",
    "print(matrix[0]) # Accessing the first row of the matrix\n",
    "print(matrix[1]) # Accessing the second row of the matrix\n",
    "print(matrix[2]) # Accessing the third row of the matrix\n",
    "\n",
    "print(\"----------------------------------------------------------\")\n",
    "print(\"Accessing individual elements in a multi-dimensional array\")\n",
    "print(\"----------------------------------------------------------\")\n",
    "print(matrix[0][0]) # Accessing the first element of the first row\n",
    "print(matrix[1][1]) # Accessing the second element of the second row\n",
    "print(matrix[2][2]) # Accessing the third element of the third row "
   ]
  }
 ],
 "metadata": {
  "kernelspec": {
   "display_name": "Python 3",
   "language": "python",
   "name": "python3"
  },
  "language_info": {
   "codemirror_mode": {
    "name": "ipython",
    "version": 3
   },
   "file_extension": ".py",
   "mimetype": "text/x-python",
   "name": "python",
   "nbconvert_exporter": "python",
   "pygments_lexer": "ipython3",
   "version": "3.13.1"
  }
 },
 "nbformat": 4,
 "nbformat_minor": 5
}
