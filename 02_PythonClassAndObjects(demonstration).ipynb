{
 "cells": [
  {
   "cell_type": "code",
   "execution_count": 3,
   "id": "cae96474",
   "metadata": {},
   "outputs": [],
   "source": [
    "class MyComplexNumber:\n",
    "    # Constructor Method\n",
    "    def __init__(self, real=0, imag=0):\n",
    "        print(\"MyComplexNumber constructer executing...\")\n",
    "        self.real_part = real\n",
    "        self.imag_part = imag\n",
    "    def displayComplex(self):\n",
    "        print(\"{0} + {1}i\".format(self.real_part, self.imag_part))"
   ]
  },
  {
   "cell_type": "code",
   "execution_count": 4,
   "id": "1004f775",
   "metadata": {},
   "outputs": [
    {
     "name": "stdout",
     "output_type": "stream",
     "text": [
      "MyComplexNumber constructer executing...\n",
      "3 + 5i\n"
     ]
    }
   ],
   "source": [
    "# create a new obect against the MyComplexNumber class\n",
    "complex1 = MyComplexNumber(3, 5)\n",
    "# call the displayComplex function\n",
    "# output: 3 + 5i // 3 is real part and 5 is imaginary part\n",
    "complex1.displayComplex()"
   ]
  },
  {
   "cell_type": "code",
   "execution_count": 6,
   "id": "aec7815a",
   "metadata": {},
   "outputs": [
    {
     "name": "stdout",
     "output_type": "stream",
     "text": [
      "MyComplexNumber constructer executing...\n",
      "7 + 9i\n"
     ]
    }
   ],
   "source": [
    "# Create anthor object against the MyComplexNumber class\n",
    "# and create a new attribute 'new_attribute'\n",
    "complex1=MyComplexNumber(7, 9)\n",
    "complex1.displayComplex()\n",
    "complex1.new_attribute = \"I am a new attribute\""
   ]
  },
  {
   "cell_type": "code",
   "execution_count": 14,
   "id": "9fea3014",
   "metadata": {},
   "outputs": [
    {
     "name": "stdout",
     "output_type": "stream",
     "text": [
      "MyComplexNumber constructer executing...\n",
      "60 + 70i\n",
      "60 70 80\n"
     ]
    }
   ],
   "source": [
    "# Create another object against MyComplexNumber class\n",
    "# and create a new attribute 'new_attribute'\n",
    "complex1=MyComplexNumber(60,70)\n",
    "complex1.new_attribute=80\n",
    "complex1.displayComplex()\n",
    "# Output: (60,70,80)\n",
    "print(complex1.real_part,complex1.imag_part,complex1.new_attribute)"
   ]
  },
  {
   "cell_type": "code",
   "execution_count": 15,
   "id": "24ec523f",
   "metadata": {},
   "outputs": [
    {
     "data": {
      "text/plain": [
       "80"
      ]
     },
     "execution_count": 15,
     "metadata": {},
     "output_type": "execute_result"
    }
   ],
   "source": [
    "# but complex1 object doesn't have attribute 'new_attribute'\n",
    "# AttributeError: 'MyComplexNumber' object has no attribute 'new_attribute'\n",
    "complex1.new_attribute"
   ]
  },
  {
   "cell_type": "code",
   "execution_count": 19,
   "id": "43186d1f",
   "metadata": {},
   "outputs": [
    {
     "name": "stdout",
     "output_type": "stream",
     "text": [
      "<__main__.MyComplexNumber object at 0x00000260839682B0>\n"
     ]
    }
   ],
   "source": [
    "# Deleting object attribute attrubute and the object\n",
    "print(complex1)\n",
    "del complex1.real_part\n",
    "del complex1"
   ]
  },
  {
   "cell_type": "code",
   "execution_count": null,
   "id": "00cadc60",
   "metadata": {},
   "outputs": [],
   "source": [
    "# print(complex1) "
   ]
  }
 ],
 "metadata": {
  "kernelspec": {
   "display_name": "Python 3",
   "language": "python",
   "name": "python3"
  },
  "language_info": {
   "codemirror_mode": {
    "name": "ipython",
    "version": 3
   },
   "file_extension": ".py",
   "mimetype": "text/x-python",
   "name": "python",
   "nbconvert_exporter": "python",
   "pygments_lexer": "ipython3",
   "version": "3.13.1"
  }
 },
 "nbformat": 4,
 "nbformat_minor": 5
}
